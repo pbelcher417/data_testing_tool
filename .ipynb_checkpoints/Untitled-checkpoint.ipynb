{
 "cells": [
  {
   "cell_type": "code",
   "execution_count": 80,
   "id": "72e6d1e2-64e9-4440-9d7a-c472247df0ef",
   "metadata": {},
   "outputs": [],
   "source": [
    "import yaml\n",
    "from google.cloud import bigquery\n",
    "from google.oauth2 import service_account\n",
    "import datetime"
   ]
  },
  {
   "cell_type": "code",
   "execution_count": 81,
   "id": "d4a3ac35-ac40-45a7-8949-aeb10d9d0cb2",
   "metadata": {},
   "outputs": [],
   "source": [
    "def load_config(config_file):\n",
    "    with open(config_file, 'r') as file:\n",
    "        return yaml.safe_load(file)    "
   ]
  },
  {
   "cell_type": "code",
   "execution_count": 82,
   "id": "2d6a8075-d5d9-4561-be21-de077bc61c99",
   "metadata": {},
   "outputs": [],
   "source": [
    "credentials = service_account.Credentials.from_service_account_file(\n",
    "'secrets\\\\pb-data-tool-testing-67a4e3de6376.json')"
   ]
  },
  {
   "cell_type": "code",
   "execution_count": 83,
   "id": "338f4b44-1c00-4b54-aab9-b19de3a72edb",
   "metadata": {},
   "outputs": [],
   "source": [
    "project_id = 'pb-data-tool-testing'\n",
    "client = bigquery.Client(credentials= credentials,project=project_id)"
   ]
  },
  {
   "cell_type": "code",
   "execution_count": 84,
   "id": "adcbc7c4-0e95-40cd-b064-78d111c765ca",
   "metadata": {},
   "outputs": [],
   "source": [
    "dataset_name = \"test_data\""
   ]
  },
  {
   "cell_type": "code",
   "execution_count": 85,
   "id": "433350fe-800e-4290-ac7f-c323acf565b5",
   "metadata": {},
   "outputs": [],
   "source": [
    "table_name = \"test_sample_1\""
   ]
  },
  {
   "cell_type": "code",
   "execution_count": 86,
   "id": "b445b584-d9cd-414b-b7b5-6d8d1a83c8f9",
   "metadata": {},
   "outputs": [],
   "source": [
    "def null_check(table, column, filter_condition=None):\n",
    "    query = f\"\"\"\n",
    "    SELECT COUNT(*) AS null_count\n",
    "    FROM `{table}`\n",
    "    WHERE {column} IS NULL\n",
    "    \"\"\"\n",
    "    if filter_condition:\n",
    "        query = query + f\" AND {filter_condition}\"\n",
    "        \n",
    "    query_job = client.query(query)\n",
    "    print(query)\n",
    "    result = query_job.result().to_dataframe()\n",
    "    return result['null_count'][0]"
   ]
  },
  {
   "cell_type": "code",
   "execution_count": 87,
   "id": "29b0b202-035a-48ed-8fe2-4f0b73dcf664",
   "metadata": {},
   "outputs": [],
   "source": [
    "def negative_check(table, column1, filter_condition=None):\n",
    "    query = f\"\"\"\n",
    "    SELECT COUNT(*) AS non_equal_count\n",
    "    FROM `{table}`\n",
    "    WHERE {column1} < 0\n",
    "    \"\"\"\n",
    "    if filter_condition:\n",
    "        query = query + f\" AND {filter_condition}\"\n",
    "\n",
    "    query_job = client.query(query)\n",
    "    result = query_job.result().to_dataframe()\n",
    "    return result['non_equal_count'][0]"
   ]
  },
  {
   "cell_type": "code",
   "execution_count": 88,
   "id": "e707ee05-989f-4d16-bec9-74dcf5067e08",
   "metadata": {},
   "outputs": [],
   "source": [
    "table = f\"{project_id}.{dataset_name}.{table_name}\""
   ]
  },
  {
   "cell_type": "code",
   "execution_count": 89,
   "id": "1b7681fd-7044-43f9-b02e-503d0790bc5f",
   "metadata": {},
   "outputs": [
    {
     "data": {
      "text/plain": [
       "'pb-data-tool-testing.test_data.test_sample_1'"
      ]
     },
     "execution_count": 89,
     "metadata": {},
     "output_type": "execute_result"
    }
   ],
   "source": [
    "table"
   ]
  },
  {
   "cell_type": "code",
   "execution_count": 90,
   "id": "1767cdb7-941d-4094-8a95-46ec2aacfd15",
   "metadata": {},
   "outputs": [
    {
     "name": "stdout",
     "output_type": "stream",
     "text": [
      "\n",
      "    SELECT COUNT(*) AS null_count\n",
      "    FROM `pb-data-tool-testing.test_data.test_sample_1`\n",
      "    WHERE system_1_product_id IS NULL\n",
      "     AND system_1_PRODUCT_CODE = '6WUS'\n"
     ]
    }
   ],
   "source": [
    "query_with_filter = null_check(table, \"system_1_product_id\", \"system_1_PRODUCT_CODE = '6WUS'\")"
   ]
  },
  {
   "cell_type": "code",
   "execution_count": 91,
   "id": "f7468700-bab6-4bd2-8cc2-09ce0bd245f7",
   "metadata": {},
   "outputs": [
    {
     "data": {
      "text/plain": [
       "1"
      ]
     },
     "execution_count": 91,
     "metadata": {},
     "output_type": "execute_result"
    }
   ],
   "source": [
    "query_with_filter"
   ]
  },
  {
   "cell_type": "code",
   "execution_count": 92,
   "id": "c50c5412-93ca-4c3e-866c-10de0f20f97d",
   "metadata": {},
   "outputs": [],
   "source": [
    "def load_config(config_file):\n",
    "    with open(config_file, 'r') as file:\n",
    "        return yaml.safe_load(file)    "
   ]
  },
  {
   "cell_type": "code",
   "execution_count": 93,
   "id": "3182d5c6-f89c-46e4-a45e-60b17fbc5250",
   "metadata": {},
   "outputs": [],
   "source": [
    "config = load_config('test_config.yml')"
   ]
  },
  {
   "cell_type": "code",
   "execution_count": 94,
   "id": "e04d668d-bf64-433e-be47-8d278e6247c6",
   "metadata": {},
   "outputs": [
    {
     "data": {
      "text/plain": [
       "{'tables': [{'name': 'pb-data-tool-testing.test_data.test_sample_1',\n",
       "   'columns': [{'name': 'system_1_product_price',\n",
       "     'data_area': 'Assets',\n",
       "     'data_tested': 'Line Rental',\n",
       "     'system': 'CRM',\n",
       "     'field_type': 'Value',\n",
       "     'date_value_checked': 'Line Rental Amount',\n",
       "     'tests': [{'business_rule': 'Values missing', 'type': 'is_null'},\n",
       "      {'business_rule': 'Values negative', 'type': 'is_negative'}]},\n",
       "    {'name': 'system_2_product_price',\n",
       "     'data_area': 'Assets',\n",
       "     'data_tested': 'Line Rental',\n",
       "     'system': 'CRM',\n",
       "     'field_type': 'Value',\n",
       "     'date_value_checked': 'Line Rental Amount',\n",
       "     'tests': [{'business_rule': 'Values missing', 'type': 'is_null'},\n",
       "      {'business_rule': 'Values negative', 'type': 'is_negative'}]}]}]}"
      ]
     },
     "execution_count": 94,
     "metadata": {},
     "output_type": "execute_result"
    }
   ],
   "source": [
    "config"
   ]
  },
  {
   "cell_type": "code",
   "execution_count": 100,
   "id": "3a156789-d6c0-48da-b4ba-99c7bc50ace4",
   "metadata": {},
   "outputs": [
    {
     "name": "stdout",
     "output_type": "stream",
     "text": [
      "{'business_rule': 'Values missing', 'type': 'is_null'}\n",
      "is_null\n",
      "\n",
      "    SELECT COUNT(*) AS null_count\n",
      "    FROM `pb-data-tool-testing.test_data.test_sample_1`\n",
      "    WHERE system_1_product_price IS NULL\n",
      "    \n",
      "{'business_rule': 'Values negative', 'type': 'is_negative'}\n",
      "is_negative\n",
      "{'business_rule': 'Values missing', 'type': 'is_null'}\n",
      "is_null\n",
      "\n",
      "    SELECT COUNT(*) AS null_count\n",
      "    FROM `pb-data-tool-testing.test_data.test_sample_1`\n",
      "    WHERE system_2_product_price IS NULL\n",
      "    \n",
      "{'business_rule': 'Values negative', 'type': 'is_negative'}\n",
      "is_negative\n"
     ]
    }
   ],
   "source": [
    "test_results = []\n",
    "\n",
    "for table in config['tables']:\n",
    "    table_name = table['name']\n",
    "    for column in table['columns']:\n",
    "        column_name = column['name']\n",
    "        data_area = column['data_area']\n",
    "        data_tested = column['data_tested']\n",
    "        system = column['system']\n",
    "        field_type = column['field_type']\n",
    "        date_value_checked = column['date_value_checked']\n",
    "        \n",
    "        for test in column['tests']:\n",
    "            print(test)\n",
    "            business_rule = test['business_rule']  # Get custom test name\n",
    "            test_type = test['type']  # Get test type\n",
    "            print(test_type)\n",
    "            \n",
    "            if test_type == \"is_null\":\n",
    "                failure_count = null_check(table_name, column_name)#\n",
    "            elif test_type == \"is_negative\":\n",
    "                # Implement positive check\n",
    "                failure_count = negative_check(table_name, column_name)\n",
    "            elif test_type == \"column_equality\":\n",
    "                target_column = test['target_column']\n",
    "                failure_count = check_column_equality(table_name, column_name, target_column)\n",
    "                    \n",
    "            test_results.append({\n",
    "                'data_area': data_area,\n",
    "                'data_tested': data_tested,\n",
    "                'system': system,\n",
    "                'field_type': field_type,\n",
    "                'date_value_checked': date_value_checked,\n",
    "                'business_rule': business_rule,\n",
    "                'table': table_name,\n",
    "                'column': column_name,\n",
    "                'failure_count': failure_count,\n",
    "                'test_date': datetime.date.today()\n",
    "                    })"
   ]
  },
  {
   "cell_type": "code",
   "execution_count": 101,
   "id": "78c73e3a-dcaf-4787-ae0f-b9fb8454f647",
   "metadata": {},
   "outputs": [
    {
     "data": {
      "text/plain": [
       "[{'business_rule': 'Values missing',\n",
       "  'table': 'pb-data-tool-testing.test_data.test_sample_1',\n",
       "  'column': 'system_1_product_price',\n",
       "  'failure_count': 0,\n",
       "  'test_date': datetime.date(2024, 10, 23)},\n",
       " {'business_rule': 'Values negative',\n",
       "  'table': 'pb-data-tool-testing.test_data.test_sample_1',\n",
       "  'column': 'system_1_product_price',\n",
       "  'failure_count': 0,\n",
       "  'test_date': datetime.date(2024, 10, 23)},\n",
       " {'business_rule': 'Values missing',\n",
       "  'table': 'pb-data-tool-testing.test_data.test_sample_1',\n",
       "  'column': 'system_2_product_price',\n",
       "  'failure_count': 13,\n",
       "  'test_date': datetime.date(2024, 10, 23)},\n",
       " {'business_rule': 'Values negative',\n",
       "  'table': 'pb-data-tool-testing.test_data.test_sample_1',\n",
       "  'column': 'system_2_product_price',\n",
       "  'failure_count': 0,\n",
       "  'test_date': datetime.date(2024, 10, 23)}]"
      ]
     },
     "execution_count": 101,
     "metadata": {},
     "output_type": "execute_result"
    }
   ],
   "source": [
    "test_results"
   ]
  },
  {
   "cell_type": "code",
   "execution_count": 63,
   "id": "fe10f0db-294f-4b63-a19d-f019e041b36b",
   "metadata": {},
   "outputs": [
    {
     "data": {
      "text/plain": [
       "dict_keys(['null_test'])"
      ]
     },
     "execution_count": 63,
     "metadata": {},
     "output_type": "execute_result"
    }
   ],
   "source": [
    "y"
   ]
  },
  {
   "cell_type": "code",
   "execution_count": null,
   "id": "03342911-8e03-4fee-986a-907244e007dd",
   "metadata": {},
   "outputs": [],
   "source": []
  }
 ],
 "metadata": {
  "kernelspec": {
   "display_name": "Python 3 (ipykernel)",
   "language": "python",
   "name": "python3"
  },
  "language_info": {
   "codemirror_mode": {
    "name": "ipython",
    "version": 3
   },
   "file_extension": ".py",
   "mimetype": "text/x-python",
   "name": "python",
   "nbconvert_exporter": "python",
   "pygments_lexer": "ipython3",
   "version": "3.11.7"
  }
 },
 "nbformat": 4,
 "nbformat_minor": 5
}
